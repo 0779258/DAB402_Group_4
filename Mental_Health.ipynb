{
 "cells": [
  {
   "cell_type": "code",
   "execution_count": 1,
   "id": "ce9d1f6c",
   "metadata": {},
   "outputs": [
    {
     "name": "stderr",
     "output_type": "stream",
     "text": [
      "C:\\Users\\Priyanka\\anaconda3\\lib\\site-packages\\scipy\\__init__.py:146: UserWarning: A NumPy version >=1.16.5 and <1.23.0 is required for this version of SciPy (detected version 1.23.1\n",
      "  warnings.warn(f\"A NumPy version >={np_minversion} and <{np_maxversion}\"\n"
     ]
    },
    {
     "name": "stdout",
     "output_type": "stream",
     "text": [
      "Number of instances: 7480\n"
     ]
    }
   ],
   "source": [
    "#importing the necessary Python libraries and the dataset\n",
    "\n",
    "import re \n",
    "from collections import Counter\n",
    "from sklearn.model_selection import train_test_split\n",
    "from sklearn.metrics import accuracy_score\n",
    "from sklearn.svm import SVC\n",
    "from sklearn.svm import LinearSVC\n",
    "from sklearn.ensemble import RandomForestClassifier\n",
    "from sklearn.tree import DecisionTreeClassifier\n",
    "\n",
    "def read_data(file):\n",
    "    data = []\n",
    "    with open(file, 'r')as f:\n",
    "        for line in f:\n",
    "            line = line.strip()\n",
    "            label = ' '.join(line[1:line.find(\"]\")].strip().split())\n",
    "            text = line[line.find(\"]\")+1:].strip()\n",
    "            data.append([label, text])\n",
    "    return data\n",
    "\n",
    "file = 'text.txt'\n",
    "data = read_data(file)\n",
    "print(\"Number of instances: {}\".format(len(data)))\n",
    "# print(data[:5])"
   ]
  },
  {
   "cell_type": "code",
   "execution_count": 2,
   "id": "ce0fbffa",
   "metadata": {},
   "outputs": [],
   "source": [
    "# create two Python functions for tokenization and generating the features of an input sentence\n",
    "\n",
    "def ngram(token, n): \n",
    "    output = []\n",
    "    for i in range(n-1, len(token)): \n",
    "        ngram = ' '.join(token[i-n+1:i+1])\n",
    "        output.append(ngram) \n",
    "    return output\n",
    "\n",
    "def create_feature(text, nrange=(1, 1)):\n",
    "    text_features = [] \n",
    "    text = text.lower() \n",
    "    text_alphanum = re.sub('[^a-z0-9#]', ' ', text)\n",
    "    for n in range(nrange[0], nrange[1]+1): \n",
    "        text_features += ngram(text_alphanum.split(), n)    \n",
    "    text_punc = re.sub('[a-z0-9]', ' ', text)\n",
    "    text_features += ngram(text_punc.split(), 1)\n",
    "    return Counter(text_features)"
   ]
  },
  {
   "cell_type": "code",
   "execution_count": 3,
   "id": "3093bf18",
   "metadata": {},
   "outputs": [
    {
     "name": "stdout",
     "output_type": "stream",
     "text": [
      "['depression', 'anxiety', 'PTSD', 'psychosis', 'bipolar disorders']\n"
     ]
    }
   ],
   "source": [
    "#create a Python function to store the labels, our labels will be based on mental health such as \"depression\", \"anxiety\", \"PTSD\", \"psychosis\", \"bipolar disorders\", \"schizophrenia\", \"OCD and so on\n",
    "\n",
    "def convert_label(item, name): \n",
    "    items = list(map(float, item.split()))\n",
    "    label = \"\"\n",
    "    for idx in range(len(items)): \n",
    "        if items[idx] == 1: \n",
    "            label += name[idx] + \" \"\n",
    "    \n",
    "    return label.strip()\n",
    "\n",
    "issues = [\"depression\", \"anxiety\", \"PTSD\", \"psychosis\", \"bipolar disorders\", \"schizophrenia\", \"OCD\"]\n",
    "\n",
    "X_all = []\n",
    "y_all = []\n",
    "for label, text in data:\n",
    "    y_all.append(convert_label(label, issues))\n",
    "    X_all.append(create_feature(text, nrange=(1, 4)))\n",
    "    \n",
    "print(y_all[:5])"
   ]
  },
  {
   "cell_type": "code",
   "execution_count": 4,
   "id": "9c4936da",
   "metadata": {},
   "outputs": [
    {
     "data": {
      "text/plain": [
       "<5984x249535 sparse matrix of type '<class 'numpy.float64'>'\n",
       "\twith 488985 stored elements in Compressed Sparse Row format>"
      ]
     },
     "execution_count": 4,
     "metadata": {},
     "output_type": "execute_result"
    }
   ],
   "source": [
    "#split the data into training and test sets\n",
    "\n",
    "X_train, X_test, y_train, y_test = train_test_split(X_all, y_all, test_size = 0.2, random_state = 123)\n",
    "\n",
    "def train_test(clf, X_train, X_test, y_train, y_test):\n",
    "    clf.fit(X_train, y_train)\n",
    "    train_acc = accuracy_score(y_train, clf.predict(X_train))\n",
    "    test_acc = accuracy_score(y_test, clf.predict(X_test))\n",
    "    return train_acc, test_acc\n",
    "\n",
    "from sklearn.feature_extraction import DictVectorizer\n",
    "vectorizer = DictVectorizer(sparse = True)\n",
    "X_train = vectorizer.fit_transform(X_train)\n",
    "X_test = vectorizer.transform(X_test)\n",
    "\n",
    "X_train"
   ]
  },
  {
   "cell_type": "code",
   "execution_count": 5,
   "id": "97972c3d",
   "metadata": {},
   "outputs": [
    {
     "name": "stdout",
     "output_type": "stream",
     "text": [
      "| Classifier                | Training Accuracy | Test Accuracy |\n",
      "| ------------------------- | ----------------- | ------------- |\n",
      "| SVC                       |         0.9070856 |     0.4518717 |\n"
     ]
    },
    {
     "name": "stderr",
     "output_type": "stream",
     "text": [
      "C:\\Users\\Priyanka\\anaconda3\\lib\\site-packages\\sklearn\\svm\\_base.py:1225: ConvergenceWarning: Liblinear failed to converge, increase the number of iterations.\n",
      "  warnings.warn(\n"
     ]
    },
    {
     "name": "stdout",
     "output_type": "stream",
     "text": [
      "| LinearSVC                 |         0.9988302 |     0.5768717 |\n",
      "| RandomForestClassifier    |         0.9988302 |     0.5534759 |\n",
      "| DecisionTreeClassifier    |         0.9988302 |     0.4618984 |\n"
     ]
    }
   ],
   "source": [
    "#going to train four machine learning models and then choose the model that works best on the training and testing sets\n",
    "\n",
    "svc = SVC()\n",
    "lsvc = LinearSVC(random_state=123)\n",
    "rforest = RandomForestClassifier(random_state=123)\n",
    "dtree = DecisionTreeClassifier()\n",
    "\n",
    "clifs = [svc, lsvc, rforest, dtree]\n",
    "\n",
    "# train and test them \n",
    "print(\"| {:25} | {} | {} |\".format(\"Classifier\", \"Training Accuracy\", \"Test Accuracy\"))\n",
    "print(\"| {} | {} | {} |\".format(\"-\"*25, \"-\"*17, \"-\"*13))\n",
    "for clf in clifs: \n",
    "    clf_name = clf.__class__.__name__\n",
    "    train_acc, test_acc = train_test(clf, X_train, X_test, y_train, y_test)\n",
    "    print(\"| {:25} | {:17.7f} | {:13.7f} |\".format(clf_name, train_acc, test_acc))"
   ]
  },
  {
   "cell_type": "code",
   "execution_count": 6,
   "id": "08cf1f32",
   "metadata": {},
   "outputs": [
    {
     "name": "stdout",
     "output_type": "stream",
     "text": [
      "depression(1. 0. 0. 0. 0. 0. 0.)  1084\n",
      "PTSD      (0. 0. 1. 0. 0. 0. 0.)  1080\n",
      "psychosis (0. 0. 0. 1. 0. 0. 0.)  1079\n",
      "anxiety   (0. 1. 0. 0. 0. 0. 0.)  1078\n",
      "bipolar disorders(0. 0. 0. 0. 1. 0. 0.)  1057\n",
      "OCD       (0. 0. 0. 0. 0. 0. 1.)  1057\n",
      "schizophrenia(0. 0. 0. 0. 0. 1. 0.)  1045\n"
     ]
    }
   ],
   "source": [
    "#assign an emoji to each label that is emotions in this problem, then I’ll write 4 input sentences, \n",
    "#then I’ll use our trained machine learning model to take a look at the emotions of our input sentences\n",
    "\n",
    "l = [\"depression\", \"anxiety\", \"PTSD\", \"psychosis\", \"bipolar disorders\", \"schizophrenia\", \"OCD\"]\n",
    "l.sort()\n",
    "label_freq = {}\n",
    "for label, _ in data: \n",
    "    label_freq[label] = label_freq.get(label, 0) + 1\n",
    "\n",
    "# print the labels and their counts in sorted order \n",
    "for l in sorted(label_freq, key=label_freq.get, reverse=True):\n",
    "    print(\"{:10}({})  {}\".format(convert_label(l, issues), l, label_freq[l]))"
   ]
  },
  {
   "cell_type": "code",
   "execution_count": 10,
   "id": "61384697",
   "metadata": {},
   "outputs": [
    {
     "name": "stdout",
     "output_type": "stream",
     "text": [
      "How is your health?\n",
      "I think people live alone or take any tension ans its effect on body like people not feel fresh\n",
      "I had shouted at my younger brother and he was always afraid when I called out loudly. depression\n"
     ]
    }
   ],
   "source": [
    "issues_dict = {\"depression\":\"depression\", \"anxiety\":\"anxiety\", \"PTSD\":\"PTSD\", \"psychosis\":\"psychosis\", \"bipolar disorders\":\"bipolar disorders\", \"schizophrenia\":\"schizophrenia\", \"OCD\":\"OCD\"}\n",
    "#t1 = \"This looks so impressive\"\n",
    "#t2 = \"I have a fear of dogs\"\n",
    "#t3 = \"My dog died yesterday\"\n",
    "#t4 = \"I don't want to talk with you\"\n",
    "\n",
    "t1 = input('How is your health?\\n')    \n",
    "\n",
    "features = create_feature(t1, nrange=(1, 4))\n",
    "features = vectorizer.transform(features)\n",
    "prediction = clf.predict(features)[0]\n",
    "print( text,issues_dict[prediction])"
   ]
  },
  {
   "cell_type": "code",
   "execution_count": null,
   "id": "90537b8f",
   "metadata": {},
   "outputs": [],
   "source": []
  },
  {
   "cell_type": "code",
   "execution_count": null,
   "id": "9a218857",
   "metadata": {},
   "outputs": [],
   "source": []
  }
 ],
 "metadata": {
  "kernelspec": {
   "display_name": "Python 3 (ipykernel)",
   "language": "python",
   "name": "python3"
  },
  "language_info": {
   "codemirror_mode": {
    "name": "ipython",
    "version": 3
   },
   "file_extension": ".py",
   "mimetype": "text/x-python",
   "name": "python",
   "nbconvert_exporter": "python",
   "pygments_lexer": "ipython3",
   "version": "3.9.7"
  }
 },
 "nbformat": 4,
 "nbformat_minor": 5
}
